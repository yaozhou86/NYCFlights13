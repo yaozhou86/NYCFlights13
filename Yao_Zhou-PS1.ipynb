{
 "cells": [
  {
   "cell_type": "code",
   "execution_count": 1,
   "metadata": {},
   "outputs": [
    {
     "name": "stdout",
     "output_type": "stream",
     "text": [
      "IPython version:       5.3.0 (need at least 1.0)\n",
      "Numpy version:        1.13.1 (need at least 1.7.1)\n",
      "SciPy version:        0.19.0 (need at least 0.12.0)\n",
      "Pandas version:       0.20.1 (need at least 0.11.0)\n",
      "Mapltolib version:     2.0.2 (need at least 1.2.1)\n",
      "Scikit-Learn version: 0.18.1 (need at least 0.13.1)\n"
     ]
    }
   ],
   "source": [
    "#IPython is what you are using now to run the notebook\n",
    "import IPython\n",
    "print (\"IPython version:      %6.6s (need at least 1.0)\" % IPython.__version__)\n",
    "\n",
    "# Numpy is a library for working with Arrays\n",
    "import numpy as np\n",
    "print (\"Numpy version:        %6.6s (need at least 1.7.1)\" % np.__version__)\n",
    "\n",
    "# SciPy implements many different numerical algorithms\n",
    "import scipy as sp\n",
    "print (\"SciPy version:        %6.6s (need at least 0.12.0)\" % sp.__version__)\n",
    "\n",
    "# Pandas makes working with data tables easier\n",
    "import pandas as pd\n",
    "print (\"Pandas version:       %6.6s (need at least 0.11.0)\" % pd.__version__)\n",
    "\n",
    "# Module for plotting\n",
    "import matplotlib\n",
    "print (\"Mapltolib version:    %6.6s (need at least 1.2.1)\" % matplotlib.__version__)\n",
    "\n",
    "# SciKit Learn implements several Machine Learning algorithms\n",
    "import sklearn\n",
    "print (\"Scikit-Learn version: %6.6s (need at least 0.13.1)\" % sklearn.__version__)"
   ]
  },
  {
   "cell_type": "markdown",
   "metadata": {},
   "source": [
    "## Instructions: \n",
    "In this problem set you will perform a basic exploratory analysis on an example dataset, bringing to bear all of your new skills in data manipulation and visualization. You will be required to submit well commented python code, documenting all code used in this problem set, along with a write up answering all questions below. Use figures as appropriate to support your answers, and when required by the problem. \n",
    "This data set uses the NYCFlights13 dataset. You can download the dataset from canvas."
   ]
  },
  {
   "cell_type": "code",
   "execution_count": 2,
   "metadata": {
    "collapsed": true
   },
   "outputs": [],
   "source": [
    "import pandas as pd\n",
    "import numpy as np\n",
    "import matplotlib.pyplot as plt"
   ]
  },
  {
   "cell_type": "code",
   "execution_count": 3,
   "metadata": {
    "collapsed": true
   },
   "outputs": [],
   "source": [
    "flights_df= pd.read_csv('flights.csv')"
   ]
  },
  {
   "cell_type": "code",
   "execution_count": 4,
   "metadata": {},
   "outputs": [
    {
     "name": "stdout",
     "output_type": "stream",
     "text": [
      "(336776, 17)\n",
      "Index(['Unnamed: 0', 'year', 'month', 'day', 'dep_time', 'dep_delay',\n",
      "       'arr_time', 'arr_delay', 'carrier', 'tailnum', 'flight', 'origin',\n",
      "       'dest', 'air_time', 'distance', 'hour', 'minute'],\n",
      "      dtype='object')\n",
      "Unnamed: 0      int64\n",
      "year            int64\n",
      "month           int64\n",
      "day             int64\n",
      "dep_time      float64\n",
      "dep_delay     float64\n",
      "arr_time      float64\n",
      "arr_delay     float64\n",
      "carrier        object\n",
      "tailnum        object\n",
      "flight          int64\n",
      "origin         object\n",
      "dest           object\n",
      "air_time      float64\n",
      "distance        int64\n",
      "hour          float64\n",
      "minute        float64\n",
      "dtype: object\n"
     ]
    }
   ],
   "source": [
    "print(flights_df.shape) \n",
    "print(flights_df.columns)\n",
    "print(flights_df.dtypes)"
   ]
  },
  {
   "cell_type": "code",
   "execution_count": 5,
   "metadata": {},
   "outputs": [
    {
     "data": {
      "text/html": [
       "<div>\n",
       "<style>\n",
       "    .dataframe thead tr:only-child th {\n",
       "        text-align: right;\n",
       "    }\n",
       "\n",
       "    .dataframe thead th {\n",
       "        text-align: left;\n",
       "    }\n",
       "\n",
       "    .dataframe tbody tr th {\n",
       "        vertical-align: top;\n",
       "    }\n",
       "</style>\n",
       "<table border=\"1\" class=\"dataframe\">\n",
       "  <thead>\n",
       "    <tr style=\"text-align: right;\">\n",
       "      <th></th>\n",
       "      <th>Unnamed: 0</th>\n",
       "      <th>year</th>\n",
       "      <th>month</th>\n",
       "      <th>day</th>\n",
       "      <th>dep_time</th>\n",
       "      <th>dep_delay</th>\n",
       "      <th>arr_time</th>\n",
       "      <th>arr_delay</th>\n",
       "      <th>carrier</th>\n",
       "      <th>tailnum</th>\n",
       "      <th>flight</th>\n",
       "      <th>origin</th>\n",
       "      <th>dest</th>\n",
       "      <th>air_time</th>\n",
       "      <th>distance</th>\n",
       "      <th>hour</th>\n",
       "      <th>minute</th>\n",
       "    </tr>\n",
       "  </thead>\n",
       "  <tbody>\n",
       "    <tr>\n",
       "      <th>0</th>\n",
       "      <td>1</td>\n",
       "      <td>2013</td>\n",
       "      <td>1</td>\n",
       "      <td>1</td>\n",
       "      <td>517.0</td>\n",
       "      <td>2.0</td>\n",
       "      <td>830.0</td>\n",
       "      <td>11.0</td>\n",
       "      <td>UA</td>\n",
       "      <td>N14228</td>\n",
       "      <td>1545</td>\n",
       "      <td>EWR</td>\n",
       "      <td>IAH</td>\n",
       "      <td>227.0</td>\n",
       "      <td>1400</td>\n",
       "      <td>5.0</td>\n",
       "      <td>17.0</td>\n",
       "    </tr>\n",
       "    <tr>\n",
       "      <th>1</th>\n",
       "      <td>2</td>\n",
       "      <td>2013</td>\n",
       "      <td>1</td>\n",
       "      <td>1</td>\n",
       "      <td>533.0</td>\n",
       "      <td>4.0</td>\n",
       "      <td>850.0</td>\n",
       "      <td>20.0</td>\n",
       "      <td>UA</td>\n",
       "      <td>N24211</td>\n",
       "      <td>1714</td>\n",
       "      <td>LGA</td>\n",
       "      <td>IAH</td>\n",
       "      <td>227.0</td>\n",
       "      <td>1416</td>\n",
       "      <td>5.0</td>\n",
       "      <td>33.0</td>\n",
       "    </tr>\n",
       "    <tr>\n",
       "      <th>2</th>\n",
       "      <td>3</td>\n",
       "      <td>2013</td>\n",
       "      <td>1</td>\n",
       "      <td>1</td>\n",
       "      <td>542.0</td>\n",
       "      <td>2.0</td>\n",
       "      <td>923.0</td>\n",
       "      <td>33.0</td>\n",
       "      <td>AA</td>\n",
       "      <td>N619AA</td>\n",
       "      <td>1141</td>\n",
       "      <td>JFK</td>\n",
       "      <td>MIA</td>\n",
       "      <td>160.0</td>\n",
       "      <td>1089</td>\n",
       "      <td>5.0</td>\n",
       "      <td>42.0</td>\n",
       "    </tr>\n",
       "    <tr>\n",
       "      <th>3</th>\n",
       "      <td>4</td>\n",
       "      <td>2013</td>\n",
       "      <td>1</td>\n",
       "      <td>1</td>\n",
       "      <td>544.0</td>\n",
       "      <td>-1.0</td>\n",
       "      <td>1004.0</td>\n",
       "      <td>-18.0</td>\n",
       "      <td>B6</td>\n",
       "      <td>N804JB</td>\n",
       "      <td>725</td>\n",
       "      <td>JFK</td>\n",
       "      <td>BQN</td>\n",
       "      <td>183.0</td>\n",
       "      <td>1576</td>\n",
       "      <td>5.0</td>\n",
       "      <td>44.0</td>\n",
       "    </tr>\n",
       "    <tr>\n",
       "      <th>4</th>\n",
       "      <td>5</td>\n",
       "      <td>2013</td>\n",
       "      <td>1</td>\n",
       "      <td>1</td>\n",
       "      <td>554.0</td>\n",
       "      <td>-6.0</td>\n",
       "      <td>812.0</td>\n",
       "      <td>-25.0</td>\n",
       "      <td>DL</td>\n",
       "      <td>N668DN</td>\n",
       "      <td>461</td>\n",
       "      <td>LGA</td>\n",
       "      <td>ATL</td>\n",
       "      <td>116.0</td>\n",
       "      <td>762</td>\n",
       "      <td>5.0</td>\n",
       "      <td>54.0</td>\n",
       "    </tr>\n",
       "    <tr>\n",
       "      <th>5</th>\n",
       "      <td>6</td>\n",
       "      <td>2013</td>\n",
       "      <td>1</td>\n",
       "      <td>1</td>\n",
       "      <td>554.0</td>\n",
       "      <td>-4.0</td>\n",
       "      <td>740.0</td>\n",
       "      <td>12.0</td>\n",
       "      <td>UA</td>\n",
       "      <td>N39463</td>\n",
       "      <td>1696</td>\n",
       "      <td>EWR</td>\n",
       "      <td>ORD</td>\n",
       "      <td>150.0</td>\n",
       "      <td>719</td>\n",
       "      <td>5.0</td>\n",
       "      <td>54.0</td>\n",
       "    </tr>\n",
       "    <tr>\n",
       "      <th>6</th>\n",
       "      <td>7</td>\n",
       "      <td>2013</td>\n",
       "      <td>1</td>\n",
       "      <td>1</td>\n",
       "      <td>555.0</td>\n",
       "      <td>-5.0</td>\n",
       "      <td>913.0</td>\n",
       "      <td>19.0</td>\n",
       "      <td>B6</td>\n",
       "      <td>N516JB</td>\n",
       "      <td>507</td>\n",
       "      <td>EWR</td>\n",
       "      <td>FLL</td>\n",
       "      <td>158.0</td>\n",
       "      <td>1065</td>\n",
       "      <td>5.0</td>\n",
       "      <td>55.0</td>\n",
       "    </tr>\n",
       "    <tr>\n",
       "      <th>7</th>\n",
       "      <td>8</td>\n",
       "      <td>2013</td>\n",
       "      <td>1</td>\n",
       "      <td>1</td>\n",
       "      <td>557.0</td>\n",
       "      <td>-3.0</td>\n",
       "      <td>709.0</td>\n",
       "      <td>-14.0</td>\n",
       "      <td>EV</td>\n",
       "      <td>N829AS</td>\n",
       "      <td>5708</td>\n",
       "      <td>LGA</td>\n",
       "      <td>IAD</td>\n",
       "      <td>53.0</td>\n",
       "      <td>229</td>\n",
       "      <td>5.0</td>\n",
       "      <td>57.0</td>\n",
       "    </tr>\n",
       "    <tr>\n",
       "      <th>8</th>\n",
       "      <td>9</td>\n",
       "      <td>2013</td>\n",
       "      <td>1</td>\n",
       "      <td>1</td>\n",
       "      <td>557.0</td>\n",
       "      <td>-3.0</td>\n",
       "      <td>838.0</td>\n",
       "      <td>-8.0</td>\n",
       "      <td>B6</td>\n",
       "      <td>N593JB</td>\n",
       "      <td>79</td>\n",
       "      <td>JFK</td>\n",
       "      <td>MCO</td>\n",
       "      <td>140.0</td>\n",
       "      <td>944</td>\n",
       "      <td>5.0</td>\n",
       "      <td>57.0</td>\n",
       "    </tr>\n",
       "    <tr>\n",
       "      <th>9</th>\n",
       "      <td>10</td>\n",
       "      <td>2013</td>\n",
       "      <td>1</td>\n",
       "      <td>1</td>\n",
       "      <td>558.0</td>\n",
       "      <td>-2.0</td>\n",
       "      <td>753.0</td>\n",
       "      <td>8.0</td>\n",
       "      <td>AA</td>\n",
       "      <td>N3ALAA</td>\n",
       "      <td>301</td>\n",
       "      <td>LGA</td>\n",
       "      <td>ORD</td>\n",
       "      <td>138.0</td>\n",
       "      <td>733</td>\n",
       "      <td>5.0</td>\n",
       "      <td>58.0</td>\n",
       "    </tr>\n",
       "  </tbody>\n",
       "</table>\n",
       "</div>"
      ],
      "text/plain": [
       "   Unnamed: 0  year  month  day  dep_time  dep_delay  arr_time  arr_delay  \\\n",
       "0           1  2013      1    1     517.0        2.0     830.0       11.0   \n",
       "1           2  2013      1    1     533.0        4.0     850.0       20.0   \n",
       "2           3  2013      1    1     542.0        2.0     923.0       33.0   \n",
       "3           4  2013      1    1     544.0       -1.0    1004.0      -18.0   \n",
       "4           5  2013      1    1     554.0       -6.0     812.0      -25.0   \n",
       "5           6  2013      1    1     554.0       -4.0     740.0       12.0   \n",
       "6           7  2013      1    1     555.0       -5.0     913.0       19.0   \n",
       "7           8  2013      1    1     557.0       -3.0     709.0      -14.0   \n",
       "8           9  2013      1    1     557.0       -3.0     838.0       -8.0   \n",
       "9          10  2013      1    1     558.0       -2.0     753.0        8.0   \n",
       "\n",
       "  carrier tailnum  flight origin dest  air_time  distance  hour  minute  \n",
       "0      UA  N14228    1545    EWR  IAH     227.0      1400   5.0    17.0  \n",
       "1      UA  N24211    1714    LGA  IAH     227.0      1416   5.0    33.0  \n",
       "2      AA  N619AA    1141    JFK  MIA     160.0      1089   5.0    42.0  \n",
       "3      B6  N804JB     725    JFK  BQN     183.0      1576   5.0    44.0  \n",
       "4      DL  N668DN     461    LGA  ATL     116.0       762   5.0    54.0  \n",
       "5      UA  N39463    1696    EWR  ORD     150.0       719   5.0    54.0  \n",
       "6      B6  N516JB     507    EWR  FLL     158.0      1065   5.0    55.0  \n",
       "7      EV  N829AS    5708    LGA  IAD      53.0       229   5.0    57.0  \n",
       "8      B6  N593JB      79    JFK  MCO     140.0       944   5.0    57.0  \n",
       "9      AA  N3ALAA     301    LGA  ORD     138.0       733   5.0    58.0  "
      ]
     },
     "execution_count": 5,
     "metadata": {},
     "output_type": "execute_result"
    }
   ],
   "source": [
    "flights_df.dest.unique()\n",
    "flights_df.head(10)"
   ]
  },
  {
   "cell_type": "markdown",
   "metadata": {},
   "source": [
    "## Question 1\n",
    "Let’s explore flights from NYC to Seattle. Use the flights dataset to answer the following questions.\n",
    "\n",
    "(a) How many flights were there from NYC airports to Seattle in 2013?"
   ]
  },
  {
   "cell_type": "code",
   "execution_count": 6,
   "metadata": {},
   "outputs": [
    {
     "data": {
      "text/plain": [
       "(3923, 17)"
      ]
     },
     "execution_count": 6,
     "metadata": {},
     "output_type": "execute_result"
    }
   ],
   "source": [
    "flightSEA = flights_df.query(\"dest=='SEA'\") # select flights with dest == 'SEA'\n",
    "flightSEA.shape"
   ]
  },
  {
   "cell_type": "markdown",
   "metadata": {},
   "source": [
    "There are 3923 flights from NYC airport to Seattle in 2013."
   ]
  },
  {
   "cell_type": "markdown",
   "metadata": {},
   "source": [
    "(b) How many airlines fly from NYC to Seattle?"
   ]
  },
  {
   "cell_type": "code",
   "execution_count": 7,
   "metadata": {},
   "outputs": [
    {
     "data": {
      "text/plain": [
       "array(['AS', 'DL', 'UA', 'B6', 'AA'], dtype=object)"
      ]
     },
     "execution_count": 7,
     "metadata": {},
     "output_type": "execute_result"
    }
   ],
   "source": [
    "flightSEA.carrier.unique() #distinct carriers in all flights to Seattle"
   ]
  },
  {
   "cell_type": "markdown",
   "metadata": {},
   "source": [
    "There are 5 airlines from NYC to Seattle."
   ]
  },
  {
   "cell_type": "markdown",
   "metadata": {},
   "source": [
    "(c) How many unique air planes fly from NYC to Seattle?"
   ]
  },
  {
   "cell_type": "code",
   "execution_count": 8,
   "metadata": {},
   "outputs": [
    {
     "data": {
      "text/plain": [
       "936"
      ]
     },
     "execution_count": 8,
     "metadata": {},
     "output_type": "execute_result"
    }
   ],
   "source": [
    "len(flightSEA.tailnum.unique())# number of distinct tailnum"
   ]
  },
  {
   "cell_type": "markdown",
   "metadata": {},
   "source": [
    "There are 936 unique air plains fly from NYC to Seattle."
   ]
  },
  {
   "cell_type": "markdown",
   "metadata": {},
   "source": [
    "(d) What is the average arrival delay for flights from NC to Seattle?"
   ]
  },
  {
   "cell_type": "code",
   "execution_count": 9,
   "metadata": {},
   "outputs": [
    {
     "data": {
      "text/plain": [
       "-1.099"
      ]
     },
     "execution_count": 9,
     "metadata": {},
     "output_type": "execute_result"
    }
   ],
   "source": [
    "round(flightSEA.arr_delay.mean(),3) # average delay time"
   ]
  },
  {
   "cell_type": "markdown",
   "metadata": {},
   "source": [
    "The average arrival delay for flights from NYC to Seattle is about -1.099."
   ]
  },
  {
   "cell_type": "markdown",
   "metadata": {},
   "source": [
    "(e) What proportion of flights to Seattle come from each NYC airport?"
   ]
  },
  {
   "cell_type": "code",
   "execution_count": 10,
   "metadata": {},
   "outputs": [
    {
     "data": {
      "text/html": [
       "<div>\n",
       "<style>\n",
       "    .dataframe thead tr:only-child th {\n",
       "        text-align: right;\n",
       "    }\n",
       "\n",
       "    .dataframe thead th {\n",
       "        text-align: left;\n",
       "    }\n",
       "\n",
       "    .dataframe tbody tr th {\n",
       "        vertical-align: top;\n",
       "    }\n",
       "</style>\n",
       "<table border=\"1\" class=\"dataframe\">\n",
       "  <thead>\n",
       "    <tr style=\"text-align: right;\">\n",
       "      <th></th>\n",
       "      <th>total</th>\n",
       "      <th>prop</th>\n",
       "    </tr>\n",
       "    <tr>\n",
       "      <th>origin</th>\n",
       "      <th></th>\n",
       "      <th></th>\n",
       "    </tr>\n",
       "  </thead>\n",
       "  <tbody>\n",
       "    <tr>\n",
       "      <th>EWR</th>\n",
       "      <td>1831</td>\n",
       "      <td>0.47</td>\n",
       "    </tr>\n",
       "    <tr>\n",
       "      <th>JFK</th>\n",
       "      <td>2092</td>\n",
       "      <td>0.53</td>\n",
       "    </tr>\n",
       "  </tbody>\n",
       "</table>\n",
       "</div>"
      ],
      "text/plain": [
       "        total  prop\n",
       "origin             \n",
       "EWR      1831  0.47\n",
       "JFK      2092  0.53"
      ]
     },
     "execution_count": 10,
     "metadata": {},
     "output_type": "execute_result"
    }
   ],
   "source": [
    "(pd.DataFrame(flightSEA.groupby(flightSEA['origin'])\n",
    "    .size() # calculate count of flights departing from each airport\n",
    "    .rename('total'))# group by origin\n",
    "    .assign(prop=lambda x: round(x.total/sum(x.total), 2))) #calculate proportion"
   ]
  },
  {
   "cell_type": "markdown",
   "metadata": {},
   "source": [
    "46.67% of the flights to Seattle in 2013 originated at EWR and 53.33% of flights originated at\n",
    "JFK."
   ]
  },
  {
   "cell_type": "markdown",
   "metadata": {},
   "source": [
    "## Question 2\n",
    "Flights are often delayed. Consider the following questions exploring delay patterns.\n",
    "\n",
    "(a) Which date has the largest average departure delay? Which date has the largest average arrival delay?"
   ]
  },
  {
   "cell_type": "code",
   "execution_count": 11,
   "metadata": {},
   "outputs": [
    {
     "name": "stdout",
     "output_type": "stream",
     "text": [
      "           dep_delay  arr_delay\n",
      "month day                      \n",
      "3     8    83.536921  85.862155\n",
      "           dep_delay  arr_delay\n",
      "month day                      \n",
      "3     8    83.536921  85.862155\n"
     ]
    }
   ],
   "source": [
    "delayAvg = flights_df.groupby(['month', 'day'])[['dep_delay', 'arr_delay']].mean() # group by month and day and aggregate by mean\n",
    "print(delayAvg[delayAvg.dep_delay == max(delayAvg.dep_delay)]) # max departure delay date\n",
    "print(delayAvg[delayAvg.arr_delay == max(delayAvg.arr_delay)]) # max arrival delay date"
   ]
  },
  {
   "cell_type": "markdown",
   "metadata": {},
   "source": [
    "Both of largest average departure and arrival delay occurred in March 8th, 2013. "
   ]
  },
  {
   "cell_type": "markdown",
   "metadata": {},
   "source": [
    "(b) What was the worst day to fly out of NYC in 2013 if you dislike delayed flights?\n"
   ]
  },
  {
   "cell_type": "code",
   "execution_count": 12,
   "metadata": {},
   "outputs": [
    {
     "name": "stdout",
     "output_type": "stream",
     "text": [
      "day           8.000000\n",
      "dep_delay    21.760773\n",
      "Name: 7, dtype: float64\n"
     ]
    }
   ],
   "source": [
    "gp =pd.DataFrame(flights_df['dep_delay'].groupby(flights_df['day']).mean()) # group by day, aggregate by mean, convert to dataframe\n",
    "gp.reset_index(inplace=True) #reset index\n",
    "print(gp.sort_values('dep_delay',ascending=False).iloc[0]) # sort by delay"
   ]
  },
  {
   "cell_type": "markdown",
   "metadata": {},
   "source": [
    "With respect to the largest average departure delay in 2013, 8th is the worst day to depart NYC."
   ]
  },
  {
   "cell_type": "markdown",
   "metadata": {},
   "source": [
    "(c) Are there any seasonal patterns in departure delays for flights from NYC?"
   ]
  },
  {
   "cell_type": "code",
   "execution_count": 13,
   "metadata": {},
   "outputs": [
    {
     "data": {
      "image/png": "[encoded data removed]",
      "text/plain": [
       "<matplotlib.figure.Figure at 0x21d2fb60828>"
      ]
     },
     "metadata": {},
     "output_type": "display_data"
    }
   ],
   "source": [
    "month_df = pd.DataFrame(flights_df.groupby('month')['dep_delay'].mean()) # group by month, aggregate dep_delay by mean\n",
    "month_df.reset_index(inplace=True)\n",
    "month_df.plot(x='month', y='dep_delay', linestyle='-', marker='o', title=\"Seasonal Pattern of Delay\") # plot month vs dep_delay\n",
    "plt.show()"
   ]
  },
  {
   "cell_type": "markdown",
   "metadata": {},
   "source": [
    "In general, the average departure delay peaks in summer (Jun and Jul) and then decreases until Nov. There is a sudden increase in December, after that it falls down back and then increases smoothly."
   ]
  },
  {
   "cell_type": "markdown",
   "metadata": {},
   "source": [
    "(d) On average, how do departure delays vary over the course of a day?"
   ]
  },
  {
   "cell_type": "code",
   "execution_count": 14,
   "metadata": {},
   "outputs": [
    {
     "data": {
      "image/png": "[encoded data removed]",
      "text/plain": [
       "<matplotlib.figure.Figure at 0x21d2faccf28>"
      ]
     },
     "metadata": {},
     "output_type": "display_data"
    }
   ],
   "source": [
    "hour_df = pd.DataFrame(flights_df.groupby('hour')['dep_delay'].mean())# return a dataframe\n",
    "hour_df.reset_index(inplace=True) # reset index\n",
    "hour_df.plot(linestyle='-', marker='o', y='dep_delay', title=\"Hourly Delay Pattern of a Day\") # plot hour vs dep_delay\n",
    "plt.show()"
   ]
  },
  {
   "cell_type": "markdown",
   "metadata": {},
   "source": [
    "Over the course of a day, the peak of depature delay happens around 3 o'clock. It then has a sudden drop to normal at 4. From 4 to 20 o'clock, the depature delay is smoothly increasing and after 20, it continues to rise at a greater speed. "
   ]
  },
  {
   "cell_type": "markdown",
   "metadata": {},
   "source": [
    "## Question 3\n",
    "    Which flight departing NYC in 2013 flew the fastest?"
   ]
  },
  {
   "cell_type": "code",
   "execution_count": 15,
   "metadata": {},
   "outputs": [
    {
     "name": "stdout",
     "output_type": "stream",
     "text": [
      "        Unnamed: 0  year  month  day  dep_time  dep_delay  arr_time  \\\n",
      "216447      216448  2013      5   25    1709.0        9.0    1923.0   \n",
      "\n",
      "        arr_delay carrier tailnum  flight origin dest  air_time  distance  \\\n",
      "216447      -14.0      DL  N666DN    1499    LGA  ATL      65.0       762   \n",
      "\n",
      "        hour  minute      speed  \n",
      "216447  17.0     9.0  11.723077  \n"
     ]
    }
   ],
   "source": [
    "# add a new column of speed\n",
    "flights_df['speed'] = flights_df['distance']/flights_df['air_time']\n",
    "print(flights_df[flights_df['speed'] == max(flights_df['speed'])])"
   ]
  },
  {
   "cell_type": "markdown",
   "metadata": {},
   "source": [
    "The flight N666DN flew the fastest in 2013."
   ]
  },
  {
   "cell_type": "markdown",
   "metadata": {},
   "source": [
    "## Question 4\n",
    "Which flights (i.e. carrier + flight + dest) happen every day? Where do they fly to?"
   ]
  },
  {
   "cell_type": "code",
   "execution_count": 16,
   "metadata": {},
   "outputs": [
    {
     "name": "stdout",
     "output_type": "stream",
     "text": [
      "                     total\n",
      "carrier flight dest       \n",
      "AA      59     SFO     365\n",
      "        119    LAX     365\n",
      "        181    LAX     365\n",
      "        1357   SJU     365\n",
      "        1611   MIA     365\n",
      "B6      219    CLT     365\n",
      "        359    BUR     365\n",
      "        371    FLL     365\n",
      "        431    SRQ     365\n",
      "        703    SJU     365\n",
      "        1783   MCO     365\n",
      "DL      2159   MCO     365\n",
      "        2391   TPA     365\n",
      "EV      5712   IAD     365\n",
      "UA      15     HNL     365\n",
      "VX      251    LAS     365\n",
      "        407    LAX     365\n",
      "        413    LAX     365\n"
     ]
    }
   ],
   "source": [
    "# group by carrier, flight and dest\n",
    "# aggregate by count\n",
    "df =pd.DataFrame(flights_df.groupby(['carrier', 'flight', 'dest']).size().rename('total'))\n",
    "print(df[df.total==365]) "
   ]
  },
  {
   "cell_type": "markdown",
   "metadata": {},
   "source": [
    "There are a total of 18 flights that happened everyday in 2013. They are from different carriers including AA, B6, DL, EV, UA and VX and arrived in various destination including LAX, SJU, MIA, etc."
   ]
  },
  {
   "cell_type": "markdown",
   "metadata": {},
   "source": [
    "## Question 5\n",
    "Develop one research question you can address using the nycflights2013 dataset. Provide two visualizations to support your exploration of this question. Discuss what you find.\n"
   ]
  },
  {
   "cell_type": "markdown",
   "metadata": {},
   "source": [
    "Research Question: whether the total number of departure flights on a daily basis is associated with the average daily departure delay and if such association exists in all three NYC airports.\n",
    "The research question takes an assupmtion that more flights departure on a day led to higher average departure. So we firstly examined how the total number of departure flights varies in the three airports. As the first chart shows, in general EWR has more flights to handle than JFK and LGA, which means given the assumption is true, EWR is more subject to departure delay than JFK and LGA. We then examined the daily average departure delay in these three airports and based on second chart, we found that the departure delay of EWR is slightly higher than JFK and LGA. We finally looked at how the total number of departure flights is associated with daily average departure delay. In the last chart, we saw the trend that more departure flights resulted in higher average departure delay.   "
   ]
  },
  {
   "cell_type": "code",
   "execution_count": 17,
   "metadata": {},
   "outputs": [
    {
     "data": {
      "image/png": "[encoded data removed]",
      "text/plain": [
       "<matplotlib.figure.Figure at 0x21d3007cba8>"
      ]
     },
     "metadata": {},
     "output_type": "display_data"
    },
    {
     "data": {
      "image/png": "[encoded data removed]",
      "text/plain": [
       "<matplotlib.figure.Figure at 0x21d30103cf8>"
      ]
     },
     "metadata": {},
     "output_type": "display_data"
    },
    {
     "data": {
      "image/png": "[encoded data removed]",
      "text/plain": [
       "<matplotlib.figure.Figure at 0x21d3015c5c0>"
      ]
     },
     "metadata": {},
     "output_type": "display_data"
    }
   ],
   "source": [
    "# EWR daily departure flights total mumber and dep_delay \n",
    "flight_EWR = flights_df.query(\"origin=='EWR'\").groupby(['month', 'day']).agg(['count', 'mean'])['dep_delay']\n",
    "flight_EWR.reset_index(inplace=True)\n",
    "# JFK daily departure flights total mumber and dep_delay \n",
    "flight_JFK = flights_df.query(\"origin=='JFK'\").groupby(['month', 'day']).agg(['count', 'mean'])['dep_delay']\n",
    "flight_JFK.reset_index(inplace=True)\n",
    "# LGA daily departure flights total mumber and dep_delay \n",
    "flight_LGA = flights_df.query(\"origin=='LGA'\").groupby(['month', 'day']).agg(['count', 'mean'])['dep_delay']\n",
    "flight_LGA.reset_index(inplace=True)\n",
    "fig = plt.figure()\n",
    "flight_EWR['count'].plot.density(color=\"red\", label=\"EWR\")\n",
    "flight_JFK['count'].plot.density(color=\"blue\", label=\"JFK\")\n",
    "flight_LGA['count'].plot.density(color=\"orange\", label=\"LGA\")\n",
    "plt.legend()\n",
    "plt.title(\"Daily Flight Counts Distribution\")\n",
    "plt.show()\n",
    "pd.DataFrame({\"EWR\": flight_EWR['mean'], \"JFK\": flight_JFK['mean'], \"LGA\": flight_LGA['mean']}).plot.box()\n",
    "plt.ylabel(\"Delay(mins)\")\n",
    "plt.title(\"Departure Delay\")\n",
    "plt.show()\n",
    "ax = flight_EWR.plot.scatter(x='count', y='mean', color=\"red\", alpha=0.7, label=\"EWR\")\n",
    "flight_JFK.plot.scatter(x='count', y='mean', color=\"blue\", label=\"JFK\", alpha=0.7, ax=ax)\n",
    "flight_LGA.plot.scatter(x='count', y='mean', color=\"orange\", label=\"LGA\", alpha=0.7, ax=ax)\n",
    "plt.legend()\n",
    "plt.title(\"Flights Counts Vs Departure Delay\")\n",
    "plt.xlabel(\"Flight Counts\")\n",
    "plt.ylabel(\"Departure Delay\")\n",
    "plt.show()"
   ]
  },
  {
   "cell_type": "markdown",
   "metadata": {},
   "source": [
    "## Question 6\n",
    "What weather conditions are associated with flight delays leaving NYC? Use graphics to explore."
   ]
  },
  {
   "cell_type": "code",
   "execution_count": 18,
   "metadata": {},
   "outputs": [
    {
     "name": "stdout",
     "output_type": "stream",
     "text": [
      "<class 'pandas.core.frame.DataFrame'>\n",
      "Int64Index: 8719 entries, 1 to 8719\n",
      "Data columns (total 14 columns):\n",
      "origin        8719 non-null object\n",
      "year          8719 non-null int64\n",
      "month         8718 non-null float64\n",
      "day           8718 non-null float64\n",
      "hour          8718 non-null float64\n",
      "temp          8718 non-null float64\n",
      "dewp          8718 non-null float64\n",
      "humid         8718 non-null float64\n",
      "wind_dir      8486 non-null float64\n",
      "wind_speed    8718 non-null float64\n",
      "wind_gust     8718 non-null float64\n",
      "precip        8719 non-null float64\n",
      "pressure      7780 non-null float64\n",
      "visib         8719 non-null float64\n",
      "dtypes: float64(12), int64(1), object(1)\n",
      "memory usage: 1021.8+ KB\n"
     ]
    }
   ],
   "source": [
    "weather = pd.read_csv('weather.csv', index_col=0) # lead weather data\n",
    "weather.info()"
   ]
  },
  {
   "cell_type": "code",
   "execution_count": 19,
   "metadata": {},
   "outputs": [
    {
     "name": "stdout",
     "output_type": "stream",
     "text": [
      "Weather Data Entries Origin:\n",
      "\n",
      "year    2013\n",
      "origin      \n",
      "EWR     8709\n",
      "JFK        9\n",
      "LGA        1\n"
     ]
    },
    {
     "data": {
      "image/png": "[encoded data removed]",
      "text/plain": [
       "<matplotlib.figure.Figure at 0x21d2ccb8e80>"
      ]
     },
     "metadata": {},
     "output_type": "display_data"
    },
    {
     "data": {
      "image/png": "[encoded data removed]",
      "text/plain": [
       "<matplotlib.figure.Figure at 0x21d3010da58>"
      ]
     },
     "metadata": {},
     "output_type": "display_data"
    },
    {
     "data": {
      "image/png": "[encoded data removed]",
      "text/plain": [
       "<matplotlib.figure.Figure at 0x21d2fb604e0>"
      ]
     },
     "metadata": {},
     "output_type": "display_data"
    },
    {
     "data": {
      "image/png": "[encoded data removed]",
      "text/plain": [
       "<matplotlib.figure.Figure at 0x21d328df940>"
      ]
     },
     "metadata": {},
     "output_type": "display_data"
    }
   ],
   "source": [
    "from sklearn.linear_model import LinearRegression\n",
    "print('Weather Data Entries Origin:\\n')\n",
    "print(pd.crosstab(weather.origin, weather.year)) # weather data is mostly collected at EWR\n",
    "EWR_flights =pd.DataFrame(flights_df[flights_df.origin=='EWR'].groupby(['month', 'day'])['dep_delay'].agg('mean'))# EWR flights group by month and day, aggregate dep_delay by mean\n",
    "EWR_flights.reset_index(inplace=True)\n",
    "EWR_flights['month'] = EWR_flights['month'].astype(float)#convert month to float\n",
    "EWR_flights['day']= EWR_flights['day'].astype(float)#convert day to float\n",
    "var = ['temp', 'humid', 'wind_speed', 'visib']\n",
    "EWR_weather = weather[weather['origin']=='EWR'].groupby(['month', 'day'])[var].agg('mean') #EWR flights group by month and day, aggregate weather variables by mean\n",
    "EWR_weather.reset_index(inplace=True)\n",
    "EWR_combined = EWR_flights.merge(EWR_weather, on = ['month', 'day'])# merge two dataframes\n",
    "\n",
    "for item in var:\n",
    "    lr = LinearRegression()\n",
    "    lr.fit(EWR_combined['dep_delay'].values.reshape(-1,1), EWR_combined[item])\n",
    "    alpha, beta = lr.coef_, lr.intercept_\n",
    "    fig = plt.figure()\n",
    "    X = EWR_combined[item]\n",
    "    plt.plot(X, beta+alpha*X, 'r-', label=\"y=%.2f+%.2fx\"%(alpha,beta))\n",
    "    plt.xlabel(item)\n",
    "    plt.legend()\n",
    "    plt.scatter(x=EWR_combined[item], y=EWR_combined['dep_delay'])# plot weather condition vs average departure delay\n",
    "    plt.show()\n"
   ]
  },
  {
   "cell_type": "markdown",
   "metadata": {},
   "source": [
    "As regards to how weather condition is associated with depature deplay, we took the impact of temperature, humidity, wind speed and visibility into consideration. Specifically, we explored and visualized how the daily average temperature, humidity, wind speed and visibility are respectively associated with the average daily departure delay. The visualization suggests that temperature and humidity are positively correlated with departure delay with a small coefficient (there are outliers that impacted the regression line). However, for wind speed and visibility the simple linear regression may not be a good fit."
   ]
  }
 ],
 "metadata": {
  "anaconda-cloud": {},
  "kernelspec": {
   "display_name": "Python 3",
   "language": "python",
   "name": "python3"
  },
  "language_info": {
   "codemirror_mode": {
    "name": "ipython",
    "version": 3
   },
   "file_extension": ".py",
   "mimetype": "text/x-python",
   "name": "python",
   "nbconvert_exporter": "python",
   "pygments_lexer": "ipython3",
   "version": "3.6.1"
  }
 },
 "nbformat": 4,
 "nbformat_minor": 1
}
